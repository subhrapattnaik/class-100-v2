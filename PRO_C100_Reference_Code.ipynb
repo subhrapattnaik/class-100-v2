{
  "nbformat": 4,
  "nbformat_minor": 0,
  "metadata": {
    "colab": {
      "provenance": [],
      "include_colab_link": true
    },
    "kernelspec": {
      "name": "python3",
      "display_name": "Python 3"
    },
    "language_info": {
      "name": "python"
    }
  },
  "cells": [
    {
      "cell_type": "markdown",
      "metadata": {
        "id": "view-in-github",
        "colab_type": "text"
      },
      "source": [
        "<a href=\"https://colab.research.google.com/github/subhrapattnaik/class-100-v2/blob/main/PRO_C100_Reference_Code.ipynb\" target=\"_parent\"><img src=\"https://colab.research.google.com/assets/colab-badge.svg\" alt=\"Open In Colab\"/></a>"
      ]
    },
    {
      "cell_type": "markdown",
      "metadata": {
        "id": "YgezUsCPVn_G"
      },
      "source": [
        "### Mapping Data Type:\t\n",
        "\n",
        "*   dict"
      ]
    },
    {
      "cell_type": "code",
      "metadata": {
        "colab": {
          "base_uri": "https://localhost:8080/"
        },
        "id": "imvG2wUNYBln",
        "outputId": "08e3ab53-c844-4b54-f4b8-c505e61beff5"
      },
      "source": [
        "name = \"Darsh\"\n",
        "type(name)"
      ],
      "execution_count": null,
      "outputs": [
        {
          "output_type": "execute_result",
          "data": {
            "text/plain": [
              "str"
            ]
          },
          "metadata": {
            "tags": []
          },
          "execution_count": 1
        }
      ]
    },
    {
      "cell_type": "code",
      "metadata": {
        "colab": {
          "base_uri": "https://localhost:8080/"
        },
        "id": "LDC_FoodYi3m",
        "outputId": "a5d74f51-0838-49ae-9d63-6709449b29e2"
      },
      "source": [
        "info = [ ]\n",
        "type(info)"
      ],
      "execution_count": null,
      "outputs": [
        {
          "output_type": "execute_result",
          "data": {
            "text/plain": [
              "list"
            ]
          },
          "metadata": {
            "tags": []
          },
          "execution_count": 2
        }
      ]
    },
    {
      "cell_type": "code",
      "metadata": {
        "id": "xA6BEwFCVnLi"
      },
      "source": [
        "person = {\n",
        "    \n",
        "}"
      ],
      "execution_count": null,
      "outputs": []
    },
    {
      "cell_type": "code",
      "metadata": {
        "colab": {
          "base_uri": "https://localhost:8080/"
        },
        "id": "lt5pPVn2V2p3",
        "outputId": "4a5c66c1-c7be-4d73-add1-18426acc18c1"
      },
      "source": [
        "type(person)"
      ],
      "execution_count": null,
      "outputs": [
        {
          "output_type": "execute_result",
          "data": {
            "text/plain": [
              "dict"
            ]
          },
          "metadata": {
            "tags": []
          },
          "execution_count": 4
        }
      ]
    },
    {
      "cell_type": "code",
      "metadata": {
        "id": "BDONbPS-Wdsj"
      },
      "source": [
        "person = {\n",
        "    \"name\": \"Darsh\",\n",
        "    \"mobile\" : 9029190909,\n",
        "    \"email\": \"dummy1email@gmail.com\",\n",
        "    \"address\": \"Sweet Home, Lane, City\"\n",
        "}"
      ],
      "execution_count": null,
      "outputs": []
    },
    {
      "cell_type": "code",
      "metadata": {
        "colab": {
          "base_uri": "https://localhost:8080/"
        },
        "id": "oGZjskG_XEt3",
        "outputId": "08bfa273-c1fc-4974-9cc0-66ad58109793"
      },
      "source": [
        "print(person[\"name\"])"
      ],
      "execution_count": null,
      "outputs": [
        {
          "output_type": "stream",
          "text": [
            "Darsh\n"
          ],
          "name": "stdout"
        }
      ]
    },
    {
      "cell_type": "markdown",
      "metadata": {
        "id": "zHZG3vKZzf7a"
      },
      "source": [
        "### **CLASSES & OBJECTS IN PYTHON**"
      ]
    },
    {
      "cell_type": "markdown",
      "metadata": {
        "id": "UWu3E3V806z3"
      },
      "source": [
        "**Syntax 1** : \n",
        "```\n",
        "class ClassName:\n",
        "\n",
        "    def __init__(self, attribute1, attribute2):\n",
        "      statement(s)\n",
        "\n",
        "    def method_1():\n",
        "      statement(s)\n",
        "\n",
        "    .......\n",
        "    .......\n",
        "    .......\n",
        "\n",
        "    def method_10(parameter1, parameter2):\n",
        "      statement(s)\n",
        "    \n",
        "    .......\n",
        "\n",
        "    def method(parameter(s)):\n",
        "      statement(s)\n",
        "```"
      ]
    },
    {
      "cell_type": "markdown",
      "metadata": {
        "id": "Q0YZnM9XPTWw"
      },
      "source": [
        "## Define a Class"
      ]
    },
    {
      "cell_type": "code",
      "metadata": {
        "id": "yxNq84dw3l9U"
      },
      "source": [
        "# Define Class\n",
        "class Contact_Details:\n",
        "\n",
        "    def __init__(self, name, mobile_number, email, address):\n",
        "        self.contact_name = name\n",
        "        self.contact_number = mobile_number\n",
        "        self.email = email\n",
        "        self.contact_address = address\n",
        "\n",
        "        # Make a dictionary of the contact details \n",
        "        self.person = {\n",
        "            \"name\": self.contact_name,\n",
        "            \"mobile\" : self.contact_number,\n",
        "            \"email\": self.email,\n",
        "            \"address\": self.contact_address\n",
        "        } \n",
        "\n",
        "    # Define the Methods of the class\n",
        "    \n",
        "    # View All Contact Details\n",
        "    def view_contact_details(self, contact_list):\n",
        "      print(contact_list)\n",
        "      \n",
        "\n",
        "    # Add the contact details to the list    \n",
        "    def add_contact_details(self, contact_list):\n",
        "      contact_list.append(self.person)\n"
      ],
      "execution_count": null,
      "outputs": []
    },
    {
      "cell_type": "code",
      "metadata": {
        "id": "Soi7VZ4CLslO"
      },
      "source": [
        "# new_contact = Contact_Details()  #This will throw an as arguments are not given."
      ],
      "execution_count": null,
      "outputs": []
    },
    {
      "cell_type": "markdown",
      "metadata": {
        "id": "brI1OuBuPW_X"
      },
      "source": [
        "## Create Objects"
      ]
    },
    {
      "cell_type": "code",
      "metadata": {
        "id": "ZPPjKpWr4bKk",
        "colab": {
          "base_uri": "https://localhost:8080/"
        },
        "outputId": "960fc5c4-78ec-4f0c-a036-0b7cbf0e64e5"
      },
      "source": [
        "new_contact = Contact_Details('Preeti',8956478556,'preeti_dummy1@gmail.com', 'Delhi , India')\n",
        "\n",
        "print(new_contact)"
      ],
      "execution_count": null,
      "outputs": [
        {
          "output_type": "stream",
          "text": [
            "<__main__.Contact_Details object at 0x7f1410c4e3d0>\n"
          ],
          "name": "stdout"
        }
      ]
    },
    {
      "cell_type": "markdown",
      "metadata": {
        "id": "tjxhG60MP8GT"
      },
      "source": [
        "## Accessing Class Methods\n",
        "\n",
        "We can access the methods of the class using the object and do operator!\n",
        "\n",
        "\n",
        "\n",
        "```\n",
        "<object_name.method_name>\n",
        "```\n",
        "\n"
      ]
    },
    {
      "cell_type": "markdown",
      "metadata": {
        "id": "IjTMqxLOPgSI"
      },
      "source": [
        "## Phonebook: The List of Contact Details"
      ]
    },
    {
      "cell_type": "code",
      "metadata": {
        "id": "k1jlkmmHPPp_"
      },
      "source": [
        "phonebook_list=[]"
      ],
      "execution_count": null,
      "outputs": []
    },
    {
      "cell_type": "code",
      "metadata": {
        "id": "-EsmjAIxQe-Z"
      },
      "source": [
        "new_contact = Contact_Details('Preeti',8956478556,'preeti_dummy1@gmail.com', 'Delhi , India')"
      ],
      "execution_count": null,
      "outputs": []
    },
    {
      "cell_type": "markdown",
      "metadata": {
        "id": "_8wgVsdcRQXi"
      },
      "source": [
        "### Add the Contact Details to the Phonebook List"
      ]
    },
    {
      "cell_type": "code",
      "metadata": {
        "id": "y_TCCmTtPSFv"
      },
      "source": [
        "new_contact.add_contact_details(phonebook_list)"
      ],
      "execution_count": null,
      "outputs": []
    },
    {
      "cell_type": "markdown",
      "metadata": {
        "id": "P_arV5WARVWi"
      },
      "source": [
        "#### View Contact Details After Adding to the Phonebook List"
      ]
    },
    {
      "cell_type": "code",
      "metadata": {
        "id": "p3dkAjyzSRaH",
        "colab": {
          "base_uri": "https://localhost:8080/"
        },
        "outputId": "9c777897-f21a-4d1d-b292-7992d1ec10e8"
      },
      "source": [
        "new_contact.view_contact_details(phonebook_list)"
      ],
      "execution_count": null,
      "outputs": [
        {
          "output_type": "stream",
          "text": [
            "[{'name': 'Preeti', 'mobile': 8956478556, 'email': 'preeti_dummy1@gmail.com', 'address': 'Delhi , India'}]\n"
          ],
          "name": "stdout"
        }
      ]
    },
    {
      "cell_type": "markdown",
      "metadata": {
        "id": "Sxf_Ul9rEAsl"
      },
      "source": [
        "#### Adding Second Person's Contact Details in the Phonebook List"
      ]
    },
    {
      "cell_type": "code",
      "metadata": {
        "id": "L-Gge0hbSb5A",
        "colab": {
          "base_uri": "https://localhost:8080/"
        },
        "outputId": "d30f707b-0b36-40f1-80cf-b6d563034dcb"
      },
      "source": [
        "# Create the object with new values\n",
        "new_contact = Contact_Details('Shean',8956476333,'shean_dummy1@gmail.com', 'California , USA')\n",
        "\n",
        "# Add details\n",
        "new_contact.add_contact_details(phonebook_list)\n",
        "\n",
        "# View details\n",
        "new_contact.view_contact_details(phonebook_list)"
      ],
      "execution_count": null,
      "outputs": [
        {
          "output_type": "stream",
          "text": [
            "[{'name': 'Preeti', 'mobile': 8956478556, 'email': 'preeti_dummy1@gmail.com', 'address': 'Delhi , India'}, {'name': 'Shean', 'mobile': 8956476333, 'email': 'shean_dummy1@gmail.com', 'address': 'California , USA'}]\n"
          ],
          "name": "stdout"
        }
      ]
    }
  ]
}